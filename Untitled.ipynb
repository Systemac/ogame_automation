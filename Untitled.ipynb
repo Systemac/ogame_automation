{
 "cells": [
  {
   "cell_type": "code",
   "execution_count": 3,
   "metadata": {},
   "outputs": [],
   "source": [
    "from ogame import OGame\n",
    "from ogame.constants import Ships, Speed, Missions, Buildings, Research, Defense"
   ]
  },
  {
   "cell_type": "code",
   "execution_count": 6,
   "metadata": {},
   "outputs": [],
   "source": [
    "def log_in():\n",
    "    return OGame('Indus', 'hotgigi82@hotmail.com', '1101982.Ogame')"
   ]
  },
  {
   "cell_type": "code",
   "execution_count": 7,
   "metadata": {},
   "outputs": [],
   "source": [
    "ogame = log_in()"
   ]
  },
  {
   "cell_type": "code",
   "execution_count": 9,
   "metadata": {},
   "outputs": [
    {
     "data": {
      "text/plain": [
       "False"
      ]
     },
     "execution_count": 9,
     "metadata": {},
     "output_type": "execute_result"
    }
   ],
   "source": [
    "ogame.is_under_attack()"
   ]
  },
  {
   "cell_type": "code",
   "execution_count": 102,
   "metadata": {},
   "outputs": [
    {
     "data": {
      "text/plain": [
       "{'metal': 64883,\n",
       " 'crystal': 43131,\n",
       " 'deuterium': 11260,\n",
       " 'energy': 14,\n",
       " 'darkmatter': 10000}"
      ]
     },
     "execution_count": 102,
     "metadata": {},
     "output_type": "execute_result"
    }
   ],
   "source": [
    "ogame.get(ogame.get_planet_by_name('MediaWorld'))"
   ]
  },
  {
   "cell_type": "code",
   "execution_count": 127,
   "metadata": {},
   "outputs": [
    {
     "data": {
      "text/plain": [
       "{'MetalMine': 1,\n",
       " 'CrystalMine': 2,\n",
       " 'DeuteriumSynthesizer': 3,\n",
       " 'SolarPlant': 4,\n",
       " 'FusionReactor': 12,\n",
       " 'MetalStorage': 22,\n",
       " 'CrystalStorage': 23,\n",
       " 'DeuteriumTank': 24,\n",
       " 'ShieldedMetalDen': 25,\n",
       " 'UndergroundCrystalDen': 26,\n",
       " 'SeabedDeuteriumDen': 27,\n",
       " 'Metaalmijn': 1,\n",
       " 'Kristalmijn': 2,\n",
       " 'Deuteriumfabriek': 3,\n",
       " 'Zonne-energiecentrale': 4,\n",
       " 'Fusiecentrale': 12,\n",
       " 'Metaalopslag': 22,\n",
       " 'Kristalopslag': 23,\n",
       " 'Deuteriumtank': 24}"
      ]
     },
     "execution_count": 127,
     "metadata": {},
     "output_type": "execute_result"
    }
   ],
   "source": [
    "Buildings"
   ]
  },
  {
   "cell_type": "markdown",
   "metadata": {},
   "source": [
    "## Parameters to set"
   ]
  },
  {
   "cell_type": "code",
   "execution_count": 123,
   "metadata": {},
   "outputs": [],
   "source": [
    "def check_energy(planet_name):\n",
    "    return (ogame.get_resources(ogame.get_planet_by_name(planet_name)))['energy']<0\n",
    "\n",
    "def building_in_construction(planet_name):\n",
    "    return ogame.get_overview(ogame.get_planet_by_name(planet_name))['buildings']!=''\n",
    "\n",
    "def build_resources(planet_name):\n",
    "    \"\"\"Checking first if needed energy and try to build energy resources, and after,\n",
    "        trying for building other resources\"\"\"\n",
    "    if check_energy(planet_name):\n",
    "        print('Trying to create more energy for the planet %s'%planet_name)\n",
    "        for i in ['SolarPlant','FusionReactor']:\n",
    "            ogame.build_building(ogame.get_planet_by_name(planet_name),Buildings[i])\n",
    "            if len(ogame.get_overview(planet_name)['buildings'])!=0:\n",
    "                print(ogame.get_overview(ogame.get_planet_by_name(planet_name))['buildings'][0])\n",
    "                break\n",
    "    else:\n",
    "        print('Trying build resources for the planet %s'%planet_name)\n",
    "        for k in ['CrystalMine','MetalMine','DeuteriumSynthesizer','MetalStorage',\n",
    "                  'CrystalStorage','DeuteriumTank']:\n",
    "            ogame.build_building(ogame.get_planet_by_name(planet_name),Buildings[k])\n",
    "            if len(ogame.get_overview(planet_name)['buildings'])!=0:\n",
    "                print(ogame.get_overview(planet_name)['buildings'][0])\n",
    "                break\n",
    "            else:\n",
    "                pass\n"
   ]
  },
  {
   "cell_type": "markdown",
   "metadata": {},
   "source": [
    "## Send risorses to Mother planet"
   ]
  },
  {
   "cell_type": "code",
   "execution_count": 15,
   "metadata": {},
   "outputs": [],
   "source": [
    "def ship_everything_to_Saturn(planet_name):\n",
    "    ships = [(Ships['LargeCargo'], 999)]\n",
    "    speed = Speed['100%']\n",
    "    where = {'galaxy': 5, 'system': 432, 'position': 8}\n",
    "    mission = Missions['Transport']\n",
    "    resources = {'metal': 999999999, 'crystal': 999999999, 'deuterium': 9999999999}\n",
    "    ogame.send_fleet(ogame.get_planet_by_name(planet_name),\n",
    "                     ships, \n",
    "                     speed, \n",
    "                     where, \n",
    "                     mission, \n",
    "                     resources)\n",
    "    \n",
    "def ship_slow_everything_to_Saturn():\n",
    "    ships = [(Ships['LargeCargo'], 999),(Ships['light_fighter'], 999), (Ships['recycler'], 999)]\n",
    "    speed = Speed['10%']\n",
    "    where = {'galaxy': 5, 'system': 432, 'position': 8}\n",
    "    mission = Missions['Transport']\n",
    "    for planet_name in ['MediaWorld','Saturn','Amazon','Trony','Alibaba','Unieuro']:\n",
    "        resources = {'metal': 999999999, 'crystal': 999999999, 'deuterium': 9999999999}\n",
    "        ogame.send_fleet(ogame.get_planet_by_name(planet_name),\n",
    "                         ships, \n",
    "                         speed, \n",
    "                         where, \n",
    "                         mission, \n",
    "                         resources)    \n",
    "\n",
    "def ship_slow_everything_to_Mediaworld():\n",
    "    ships = [(Ships['LargeCargo'], 999),(Ships['light_fighter'], 999), (Ships['recycler'], 999)]\n",
    "    speed = Speed['10%']\n",
    "    where = {'galaxy': 1, 'system': 434, 'position': 10}\n",
    "    mission = Missions['Transport']\n",
    "    resources = {'metal': 999999999, 'crystal': 999999999, 'deuterium': 9999999999}\n",
    "    ogame.send_fleet(ogame.get_planet_by_name('Saturn'),\n",
    "                     ships, \n",
    "                     speed, \n",
    "                     where, \n",
    "                     mission, \n",
    "                     resources)\n"
   ]
  },
  {
   "cell_type": "code",
   "execution_count": 16,
   "metadata": {},
   "outputs": [],
   "source": [
    "def log_in():\n",
    "    return OGame('Indus', 'hotgigi82@hotmail.com', '1101982.Ogame')\n",
    "ogame = log_in()\n",
    "if ogame.is_under_attack():\n",
    "    ship_slow_everything_to_Mediaworld()\n",
    "    ship_slow_everything_to_Saturn()\n",
    "    ogame.logout()\n",
    "else:\n",
    "    ogame.logout()"
   ]
  },
  {
   "cell_type": "markdown",
   "metadata": {},
   "source": [
    "# Building"
   ]
  },
  {
   "cell_type": "code",
   "execution_count": 131,
   "metadata": {},
   "outputs": [
    {
     "name": "stdout",
     "output_type": "stream",
     "text": [
      "evaluating planet MediaWorld\n",
      "Trying build resources for the planet MediaWorld\n",
      "{'name': 'MetalMine', 'code': 1}\n",
      "evaluating planet Saturn\n",
      "Trying build resources for the planet Saturn\n",
      "{'name': 'MetalMine', 'code': 1}\n",
      "evaluating planet Amazon\n",
      "Trying build resources for the planet Amazon\n",
      "{'name': 'MetalMine', 'code': 1}\n",
      "evaluating planet Trony\n",
      "Trying to create more energy for the planet Trony\n",
      "{'name': 'SolarPlant', 'code': 4}\n"
     ]
    }
   ],
   "source": [
    "planets_names_list = ['MediaWorld','Saturn','Amazon','Trony','Alibaba','Unieuro']\n",
    "for planet in planets_names_list:\n",
    "    print('evaluating planet %s'%planet)\n",
    "    build_resources(planet)"
   ]
  },
  {
   "cell_type": "markdown",
   "metadata": {},
   "source": [
    "# Send Risources to mother"
   ]
  },
  {
   "cell_type": "code",
   "execution_count": 148,
   "metadata": {},
   "outputs": [
    {
     "name": "stdout",
     "output_type": "stream",
     "text": [
      "sending resources from MediaWorld\n",
      "sending resources from Amazon\n",
      "sending resources from Trony\n"
     ]
    }
   ],
   "source": [
    "planets_names_list_send_resources = ['MediaWorld','Amazon','Trony','Alibaba','Unieuro']\n",
    "for planet in planets_names_list_send_resources:\n",
    "    print('sending resources from %s'%planet)\n",
    "    ship_everything_to_mother(planet)"
   ]
  },
  {
   "cell_type": "code",
   "execution_count": 147,
   "metadata": {},
   "outputs": [
    {
     "name": "stdout",
     "output_type": "stream",
     "text": [
      "{'name': 'EspionageTechnology', 'code': 106}\n"
     ]
    }
   ],
   "source": [
    "for i in Research:\n",
    "    ogame.build(ogame.get_planet_by_name('Saturn'), Research[i])\n",
    "    if len(ogame.get_overview('Saturn')['research'])!=0:\n",
    "        print(ogame.get_overview('Saturn')['research'][0])\n",
    "        break"
   ]
  },
  {
   "cell_type": "code",
   "execution_count": null,
   "metadata": {},
   "outputs": [],
   "source": []
  }
 ],
 "metadata": {
  "kernelspec": {
   "display_name": "ogame",
   "language": "python",
   "name": "ogame"
  },
  "language_info": {
   "codemirror_mode": {
    "name": "ipython",
    "version": 3
   },
   "file_extension": ".py",
   "mimetype": "text/x-python",
   "name": "python",
   "nbconvert_exporter": "python",
   "pygments_lexer": "ipython3",
   "version": "3.7.3"
  }
 },
 "nbformat": 4,
 "nbformat_minor": 4
}
